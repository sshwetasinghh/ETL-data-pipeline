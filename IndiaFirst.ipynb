{
 "cells": [
  {
   "cell_type": "code",
   "execution_count": 6,
   "metadata": {},
   "outputs": [],
   "source": [
    "pdf_path = \"d:\\\\Users\\\\ShwetaS\\\\Downloads\\\\Application Form (Use & File) - IndiaFirst Life Guaranteed Protection Plus Plan v2.0_cir.pdf\"\n",
    "output_path = \"D:\\\\Users\\\\ShwetaS\\\\Documents\\\\ETL training projects\\\\IndiaFirst ETL\\\\IndiaFirst_output.xlsx\""
   ]
  },
  {
   "cell_type": "code",
   "execution_count": 7,
   "metadata": {},
   "outputs": [],
   "source": [
    "import pdfplumber\n",
    "import pandas as pd\n",
    "import re"
   ]
  },
  {
   "cell_type": "code",
   "execution_count": null,
   "metadata": {},
   "outputs": [
    {
     "name": "stdout",
     "output_type": "stream",
     "text": [
      "Excel saved: D:\\Users\\ShwetaS\\Documents\\ETL training projects\\IndiaFirst ETL\\IndiaFirst_output.xlsx\n"
     ]
    }
   ],
   "source": [
    "# Clean text\n",
    "def clean_text(text):\n",
    "    text = text.replace('√', '')                    # Remove checkmark\n",
    "    return re.sub(r'\\s+', ' ', text).strip()\n",
    "\n",
    "# EXTRACT TEXT BETWEEN 6.2 and 6.3 \n",
    "section_text = \"\"\n",
    "found_6_2 = False\n",
    "end_6_3 = False\n",
    "\n",
    "with pdfplumber.open(pdf_path) as pdf:\n",
    "    for page in pdf.pages:\n",
    "        text = page.extract_text()\n",
    "        if not text:\n",
    "            continue\n",
    "        lines = text.split('\\n')\n",
    "\n",
    "        # Skip first and last lines which are page header/footer\n",
    "        if len(lines) > 2:\n",
    "            lines = lines[1:-1]\n",
    "\n",
    "        for line in lines:\n",
    "            if not found_6_2 and '6.2' in line:\n",
    "                found_6_2 = True\n",
    "            if found_6_2:\n",
    "                if '6.3' in line:\n",
    "                    end_6_3 = True\n",
    "                    break\n",
    "                section_text += line + '\\n'\n",
    "        if end_6_3:\n",
    "            break\n",
    "\n",
    "# STRUCTURED HEADERS\n",
    "lines = section_text.split('\\n')\n",
    "header_pattern = re.compile(r'^(\\(*[a-zivxl]+\\)*[\\.\\)])\\s+(.*)', re.IGNORECASE)\n",
    "data_dict = {}\n",
    "current_header = None\n",
    "\n",
    "for line in lines:\n",
    "    line = clean_text(line.strip())\n",
    "    if not line:\n",
    "        continue\n",
    "\n",
    "    header_match = header_pattern.match(line)\n",
    "    if header_match:\n",
    "        raw_header = header_match.group(2).strip()\n",
    "        # Cut header at first ':' or '/'\n",
    "        split_header = re.split(r'[:/]', raw_header, 1)\n",
    "        current_header = split_header[0].strip()\n",
    "        data_dict[current_header] = \"\"\n",
    "    elif current_header:\n",
    "        data_dict[current_header] += (line + \"\\n\")\n",
    "\n",
    "# FINAL DATAFRAME\n",
    "structured_df = pd.DataFrame([data_dict])\n",
    "\n",
    "structured_df.to_excel(output_path, index=False)\n",
    "print(f\"Excel saved: {output_path}\")\n"
   ]
  },
  {
   "cell_type": "code",
   "execution_count": null,
   "metadata": {},
   "outputs": [],
   "source": []
  }
 ],
 "metadata": {
  "kernelspec": {
   "display_name": "Python 3",
   "language": "python",
   "name": "python3"
  },
  "language_info": {
   "codemirror_mode": {
    "name": "ipython",
    "version": 3
   },
   "file_extension": ".py",
   "mimetype": "text/x-python",
   "name": "python",
   "nbconvert_exporter": "python",
   "pygments_lexer": "ipython3",
   "version": "3.11.9"
  }
 },
 "nbformat": 4,
 "nbformat_minor": 2
}
